{
 "cells": [
  {
   "cell_type": "code",
   "execution_count": 2,
   "metadata": {},
   "outputs": [],
   "source": [
    "import json"
   ]
  },
  {
   "cell_type": "code",
   "execution_count": 3,
   "metadata": {},
   "outputs": [],
   "source": [
    "with open('Solar.json', 'r') as f:\n",
    "    data = json.load(f)"
   ]
  },
  {
   "cell_type": "code",
   "execution_count": 6,
   "metadata": {},
   "outputs": [
    {
     "name": "stdout",
     "output_type": "stream",
     "text": [
      "Key: name, Value Type: <class 'str'>\n",
      "Key: center, Value Type: <class 'dict'>\n",
      "Key: imageryDate, Value Type: <class 'dict'>\n",
      "Key: postalCode, Value Type: <class 'str'>\n",
      "Key: administrativeArea, Value Type: <class 'str'>\n",
      "Key: statisticalArea, Value Type: <class 'str'>\n",
      "Key: regionCode, Value Type: <class 'str'>\n",
      "Key: solarPotential, Value Type: <class 'dict'>\n",
      "Key: boundingBox, Value Type: <class 'dict'>\n",
      "Key: imageryQuality, Value Type: <class 'str'>\n",
      "Key: imageryProcessedDate, Value Type: <class 'dict'>\n"
     ]
    }
   ],
   "source": [
    "for key, value in data.items():\n",
    "    print(f\"Key: {key}, Value Type: {type(value)}\")"
   ]
  },
  {
   "cell_type": "code",
   "execution_count": 11,
   "metadata": {},
   "outputs": [
    {
     "name": "stdout",
     "output_type": "stream",
     "text": [
      "{'sw': 'dict', 'ne': 'dict'}\n"
     ]
    }
   ],
   "source": [
    "bounding_box_data = data['boundingBox']\n",
    "bounding_box_structure = {key: type(value).__name__ for key, value in bounding_box_data.items()}\n",
    "print(bounding_box_structure)"
   ]
  },
  {
   "cell_type": "code",
   "execution_count": 12,
   "metadata": {},
   "outputs": [],
   "source": [
    "sw_data = bounding_box_data['sw']\n",
    "ne_data = bounding_box_data['ne']\n",
    "sw_structure = {key: type(value).__name__ for key, value in sw_data.items()}\n",
    "ne_structure = {key: type(value).__name__ for key, value in ne_data.items()}"
   ]
  },
  {
   "cell_type": "code",
   "execution_count": 27,
   "metadata": {},
   "outputs": [
    {
     "data": {
      "text/html": [
       "<div style=\"width:100%;\"><div style=\"position:relative;width:100%;height:0;padding-bottom:60%;\"><span style=\"color:#565656\">Make this Notebook Trusted to load map: File -> Trust Notebook</span><iframe srcdoc=\"&lt;!DOCTYPE html&gt;\n",
       "&lt;html&gt;\n",
       "&lt;head&gt;\n",
       "    \n",
       "    &lt;meta http-equiv=&quot;content-type&quot; content=&quot;text/html; charset=UTF-8&quot; /&gt;\n",
       "    \n",
       "        &lt;script&gt;\n",
       "            L_NO_TOUCH = false;\n",
       "            L_DISABLE_3D = false;\n",
       "        &lt;/script&gt;\n",
       "    \n",
       "    &lt;style&gt;html, body {width: 100%;height: 100%;margin: 0;padding: 0;}&lt;/style&gt;\n",
       "    &lt;style&gt;#map {position:absolute;top:0;bottom:0;right:0;left:0;}&lt;/style&gt;\n",
       "    &lt;script src=&quot;https://cdn.jsdelivr.net/npm/leaflet@1.9.3/dist/leaflet.js&quot;&gt;&lt;/script&gt;\n",
       "    &lt;script src=&quot;https://code.jquery.com/jquery-1.12.4.min.js&quot;&gt;&lt;/script&gt;\n",
       "    &lt;script src=&quot;https://cdn.jsdelivr.net/npm/bootstrap@5.2.2/dist/js/bootstrap.bundle.min.js&quot;&gt;&lt;/script&gt;\n",
       "    &lt;script src=&quot;https://cdnjs.cloudflare.com/ajax/libs/Leaflet.awesome-markers/2.0.2/leaflet.awesome-markers.js&quot;&gt;&lt;/script&gt;\n",
       "    &lt;link rel=&quot;stylesheet&quot; href=&quot;https://cdn.jsdelivr.net/npm/leaflet@1.9.3/dist/leaflet.css&quot;/&gt;\n",
       "    &lt;link rel=&quot;stylesheet&quot; href=&quot;https://cdn.jsdelivr.net/npm/bootstrap@5.2.2/dist/css/bootstrap.min.css&quot;/&gt;\n",
       "    &lt;link rel=&quot;stylesheet&quot; href=&quot;https://netdna.bootstrapcdn.com/bootstrap/3.0.0/css/bootstrap.min.css&quot;/&gt;\n",
       "    &lt;link rel=&quot;stylesheet&quot; href=&quot;https://cdn.jsdelivr.net/npm/@fortawesome/fontawesome-free@6.2.0/css/all.min.css&quot;/&gt;\n",
       "    &lt;link rel=&quot;stylesheet&quot; href=&quot;https://cdnjs.cloudflare.com/ajax/libs/Leaflet.awesome-markers/2.0.2/leaflet.awesome-markers.css&quot;/&gt;\n",
       "    &lt;link rel=&quot;stylesheet&quot; href=&quot;https://cdn.jsdelivr.net/gh/python-visualization/folium/folium/templates/leaflet.awesome.rotate.min.css&quot;/&gt;\n",
       "    \n",
       "            &lt;meta name=&quot;viewport&quot; content=&quot;width=device-width,\n",
       "                initial-scale=1.0, maximum-scale=1.0, user-scalable=no&quot; /&gt;\n",
       "            &lt;style&gt;\n",
       "                #map_1a8be8e287388f3f494dd1c33401e787 {\n",
       "                    position: relative;\n",
       "                    width: 100.0%;\n",
       "                    height: 100.0%;\n",
       "                    left: 0.0%;\n",
       "                    top: 0.0%;\n",
       "                }\n",
       "                .leaflet-container { font-size: 1rem; }\n",
       "            &lt;/style&gt;\n",
       "        \n",
       "&lt;/head&gt;\n",
       "&lt;body&gt;\n",
       "    \n",
       "    \n",
       "            &lt;div class=&quot;folium-map&quot; id=&quot;map_1a8be8e287388f3f494dd1c33401e787&quot; &gt;&lt;/div&gt;\n",
       "        \n",
       "&lt;/body&gt;\n",
       "&lt;script&gt;\n",
       "    \n",
       "    \n",
       "            var map_1a8be8e287388f3f494dd1c33401e787 = L.map(\n",
       "                &quot;map_1a8be8e287388f3f494dd1c33401e787&quot;,\n",
       "                {\n",
       "                    center: [42.250766049999996, -70.9785305],\n",
       "                    crs: L.CRS.EPSG3857,\n",
       "                    zoom: 6,\n",
       "                    zoomControl: true,\n",
       "                    preferCanvas: false,\n",
       "                }\n",
       "            );\n",
       "\n",
       "            \n",
       "\n",
       "        \n",
       "    \n",
       "            var tile_layer_b7b6ff3dc83b11bf3450b76fb7307e03 = L.tileLayer(\n",
       "                &quot;https://{s}.tile.openstreetmap.org/{z}/{x}/{y}.png&quot;,\n",
       "                {&quot;attribution&quot;: &quot;Data by \\u0026copy; \\u003ca target=\\&quot;_blank\\&quot; href=\\&quot;http://openstreetmap.org\\&quot;\\u003eOpenStreetMap\\u003c/a\\u003e, under \\u003ca target=\\&quot;_blank\\&quot; href=\\&quot;http://www.openstreetmap.org/copyright\\&quot;\\u003eODbL\\u003c/a\\u003e.&quot;, &quot;detectRetina&quot;: false, &quot;maxNativeZoom&quot;: 18, &quot;maxZoom&quot;: 18, &quot;minZoom&quot;: 0, &quot;noWrap&quot;: false, &quot;opacity&quot;: 1, &quot;subdomains&quot;: &quot;abc&quot;, &quot;tms&quot;: false}\n",
       "            ).addTo(map_1a8be8e287388f3f494dd1c33401e787);\n",
       "        \n",
       "    \n",
       "            var polygon_2a36b7748e0a52fe3668befb0be040a7 = L.polygon(\n",
       "                [[42.250766049999996, -70.97866883019356], [42.250868381455156, -70.97852569394549], [42.250766049999996, -70.97839216980644], [42.25066371854483, -70.97853530605451], [42.250766049999996, -70.97866883019356]],\n",
       "                {&quot;bubblingMouseEvents&quot;: true, &quot;color&quot;: &quot;red&quot;, &quot;dashArray&quot;: null, &quot;dashOffset&quot;: null, &quot;fill&quot;: false, &quot;fillColor&quot;: &quot;red&quot;, &quot;fillOpacity&quot;: 0.2, &quot;fillRule&quot;: &quot;evenodd&quot;, &quot;lineCap&quot;: &quot;round&quot;, &quot;lineJoin&quot;: &quot;round&quot;, &quot;noClip&quot;: false, &quot;opacity&quot;: 1.0, &quot;smoothFactor&quot;: 1.0, &quot;stroke&quot;: true, &quot;weight&quot;: 3}\n",
       "            ).addTo(map_1a8be8e287388f3f494dd1c33401e787);\n",
       "        \n",
       "&lt;/script&gt;\n",
       "&lt;/html&gt;\" style=\"position:absolute;width:100%;height:100%;left:0;top:0;border:none !important;\" allowfullscreen webkitallowfullscreen mozallowfullscreen></iframe></div></div>"
      ],
      "text/plain": [
       "<folium.folium.Map at 0x7f92fe099c30>"
      ]
     },
     "execution_count": 27,
     "metadata": {},
     "output_type": "execute_result"
    }
   ],
   "source": [
    "import folium\n",
    "import math\n",
    "\n",
    "# Function to rotate a point\n",
    "def rotate_point(x, y, angle_degrees, cx, cy):\n",
    "    angle_radians = math.radians(angle_degrees)\n",
    "    dx = x - cx\n",
    "    dy = y - cy\n",
    "    rotated_dx = dx * math.cos(angle_radians) - dy * math.sin(angle_radians)\n",
    "    rotated_dy = dx * math.sin(angle_radians) + dy * math.cos(angle_radians)\n",
    "    return cx + rotated_dx, cy + rotated_dy\n",
    "\n",
    "# Calculate the midpoint of the bounding box\n",
    "mid_lat, mid_long = (sw_lat + ne_lat) / 2, (sw_long + ne_long) / 2\n",
    "\n",
    "# Calculate scaling factor based on latitude\n",
    "scale_factor = math.cos(math.radians(mid_lat))\n",
    "\n",
    "# Adjust the deltas based on the scaling factor\n",
    "scaled_delta_lat = (ne_lat - sw_lat) / scale_factor\n",
    "scaled_delta_long = ne_long - sw_long\n",
    "\n",
    "# Calculate the angle of rotation based on the adjusted deltas\n",
    "angle_degrees = math.degrees(math.atan2(scaled_delta_lat, scaled_delta_long))\n",
    "\n",
    "# Rotate each corner of the bounding box\n",
    "rotated_sw = rotate_point(sw_lat / scale_factor, sw_long, angle_degrees, mid_lat / scale_factor, mid_long)\n",
    "rotated_ne = rotate_point(ne_lat / scale_factor, ne_long, angle_degrees, mid_lat / scale_factor, mid_long)\n",
    "rotated_se = rotate_point(ne_lat / scale_factor, sw_long, angle_degrees, mid_lat / scale_factor, mid_long)\n",
    "rotated_nw = rotate_point(sw_lat / scale_factor, ne_long, angle_degrees, mid_lat / scale_factor, mid_long)\n",
    "\n",
    "# Rescale the rotated coordinates back to the original scale\n",
    "rotated_sw = (rotated_sw[0] * scale_factor, rotated_sw[1])\n",
    "rotated_ne = (rotated_ne[0] * scale_factor, rotated_ne[1])\n",
    "rotated_se = (rotated_se[0] * scale_factor, rotated_se[1])\n",
    "rotated_nw = (rotated_nw[0] * scale_factor, rotated_nw[1])\n",
    "\n",
    "# Initialize the folium map centered around the bounding box\n",
    "zoom_level = 6  # Adjust as needed\n",
    "m = folium.Map(location=[mid_lat, mid_long], zoom_start=zoom_level)\n",
    "\n",
    "# Draw the rotated bounding box as a polygon\n",
    "folium.Polygon([rotated_sw, rotated_se, rotated_ne, rotated_nw, rotated_sw], \n",
    "               color='red').add_to(m)\n",
    "\n",
    "# Show the map\n",
    "m\n"
   ]
  },
  {
   "cell_type": "code",
   "execution_count": 23,
   "metadata": {},
   "outputs": [
    {
     "data": {
      "text/html": [
       "<div style=\"width:100%;\"><div style=\"position:relative;width:100%;height:0;padding-bottom:60%;\"><span style=\"color:#565656\">Make this Notebook Trusted to load map: File -> Trust Notebook</span><iframe srcdoc=\"&lt;!DOCTYPE html&gt;\n",
       "&lt;html&gt;\n",
       "&lt;head&gt;\n",
       "    \n",
       "    &lt;meta http-equiv=&quot;content-type&quot; content=&quot;text/html; charset=UTF-8&quot; /&gt;\n",
       "    \n",
       "        &lt;script&gt;\n",
       "            L_NO_TOUCH = false;\n",
       "            L_DISABLE_3D = false;\n",
       "        &lt;/script&gt;\n",
       "    \n",
       "    &lt;style&gt;html, body {width: 100%;height: 100%;margin: 0;padding: 0;}&lt;/style&gt;\n",
       "    &lt;style&gt;#map {position:absolute;top:0;bottom:0;right:0;left:0;}&lt;/style&gt;\n",
       "    &lt;script src=&quot;https://cdn.jsdelivr.net/npm/leaflet@1.9.3/dist/leaflet.js&quot;&gt;&lt;/script&gt;\n",
       "    &lt;script src=&quot;https://code.jquery.com/jquery-1.12.4.min.js&quot;&gt;&lt;/script&gt;\n",
       "    &lt;script src=&quot;https://cdn.jsdelivr.net/npm/bootstrap@5.2.2/dist/js/bootstrap.bundle.min.js&quot;&gt;&lt;/script&gt;\n",
       "    &lt;script src=&quot;https://cdnjs.cloudflare.com/ajax/libs/Leaflet.awesome-markers/2.0.2/leaflet.awesome-markers.js&quot;&gt;&lt;/script&gt;\n",
       "    &lt;link rel=&quot;stylesheet&quot; href=&quot;https://cdn.jsdelivr.net/npm/leaflet@1.9.3/dist/leaflet.css&quot;/&gt;\n",
       "    &lt;link rel=&quot;stylesheet&quot; href=&quot;https://cdn.jsdelivr.net/npm/bootstrap@5.2.2/dist/css/bootstrap.min.css&quot;/&gt;\n",
       "    &lt;link rel=&quot;stylesheet&quot; href=&quot;https://netdna.bootstrapcdn.com/bootstrap/3.0.0/css/bootstrap.min.css&quot;/&gt;\n",
       "    &lt;link rel=&quot;stylesheet&quot; href=&quot;https://cdn.jsdelivr.net/npm/@fortawesome/fontawesome-free@6.2.0/css/all.min.css&quot;/&gt;\n",
       "    &lt;link rel=&quot;stylesheet&quot; href=&quot;https://cdnjs.cloudflare.com/ajax/libs/Leaflet.awesome-markers/2.0.2/leaflet.awesome-markers.css&quot;/&gt;\n",
       "    &lt;link rel=&quot;stylesheet&quot; href=&quot;https://cdn.jsdelivr.net/gh/python-visualization/folium/folium/templates/leaflet.awesome.rotate.min.css&quot;/&gt;\n",
       "    \n",
       "            &lt;meta name=&quot;viewport&quot; content=&quot;width=device-width,\n",
       "                initial-scale=1.0, maximum-scale=1.0, user-scalable=no&quot; /&gt;\n",
       "            &lt;style&gt;\n",
       "                #map_5fb04632a074110356169c7efda2b3eb {\n",
       "                    position: relative;\n",
       "                    width: 100.0%;\n",
       "                    height: 100.0%;\n",
       "                    left: 0.0%;\n",
       "                    top: 0.0%;\n",
       "                }\n",
       "                .leaflet-container { font-size: 1rem; }\n",
       "            &lt;/style&gt;\n",
       "        \n",
       "&lt;/head&gt;\n",
       "&lt;body&gt;\n",
       "    \n",
       "    \n",
       "            &lt;div class=&quot;folium-map&quot; id=&quot;map_5fb04632a074110356169c7efda2b3eb&quot; &gt;&lt;/div&gt;\n",
       "        \n",
       "&lt;/body&gt;\n",
       "&lt;script&gt;\n",
       "    \n",
       "    \n",
       "            var map_5fb04632a074110356169c7efda2b3eb = L.map(\n",
       "                &quot;map_5fb04632a074110356169c7efda2b3eb&quot;,\n",
       "                {\n",
       "                    center: [42.250766049999996, -70.9785305],\n",
       "                    crs: L.CRS.EPSG3857,\n",
       "                    zoom: 9,\n",
       "                    zoomControl: true,\n",
       "                    preferCanvas: false,\n",
       "                }\n",
       "            );\n",
       "\n",
       "            \n",
       "\n",
       "        \n",
       "    \n",
       "            var tile_layer_6c93ff63833c43297774de220568bc88 = L.tileLayer(\n",
       "                &quot;https://{s}.tile.openstreetmap.org/{z}/{x}/{y}.png&quot;,\n",
       "                {&quot;attribution&quot;: &quot;Data by \\u0026copy; \\u003ca target=\\&quot;_blank\\&quot; href=\\&quot;http://openstreetmap.org\\&quot;\\u003eOpenStreetMap\\u003c/a\\u003e, under \\u003ca target=\\&quot;_blank\\&quot; href=\\&quot;http://www.openstreetmap.org/copyright\\&quot;\\u003eODbL\\u003c/a\\u003e.&quot;, &quot;detectRetina&quot;: false, &quot;maxNativeZoom&quot;: 18, &quot;maxZoom&quot;: 18, &quot;minZoom&quot;: 0, &quot;noWrap&quot;: false, &quot;opacity&quot;: 1, &quot;subdomains&quot;: &quot;abc&quot;, &quot;tms&quot;: false}\n",
       "            ).addTo(map_5fb04632a074110356169c7efda2b3eb);\n",
       "        \n",
       "    \n",
       "            var polygon_ff37c479914d1c37b29c5ec9dd8a7e2c = L.polygon(\n",
       "                [[42.2506924, -70.9786266], [42.2506924, -70.9784344], [42.2508397, -70.9784344], [42.2508397, -70.9786266], [42.2506924, -70.9786266]],\n",
       "                {&quot;bubblingMouseEvents&quot;: true, &quot;color&quot;: &quot;red&quot;, &quot;dashArray&quot;: null, &quot;dashOffset&quot;: null, &quot;fill&quot;: false, &quot;fillColor&quot;: &quot;red&quot;, &quot;fillOpacity&quot;: 0.2, &quot;fillRule&quot;: &quot;evenodd&quot;, &quot;lineCap&quot;: &quot;round&quot;, &quot;lineJoin&quot;: &quot;round&quot;, &quot;noClip&quot;: false, &quot;opacity&quot;: 1.0, &quot;smoothFactor&quot;: 1.0, &quot;stroke&quot;: true, &quot;weight&quot;: 3}\n",
       "            ).addTo(map_5fb04632a074110356169c7efda2b3eb);\n",
       "        \n",
       "&lt;/script&gt;\n",
       "&lt;/html&gt;\" style=\"position:absolute;width:100%;height:100%;left:0;top:0;border:none !important;\" allowfullscreen webkitallowfullscreen mozallowfullscreen></iframe></div></div>"
      ],
      "text/plain": [
       "<folium.folium.Map at 0x7f92fe08b070>"
      ]
     },
     "execution_count": 23,
     "metadata": {},
     "output_type": "execute_result"
    }
   ],
   "source": [
    "import folium\n",
    "\n",
    "\n",
    "\n",
    "# Calculate the mid-point of the bounding box\n",
    "mid_lat, mid_long = (sw_lat + ne_lat) / 2, (sw_long + ne_long) / 2\n",
    "\n",
    "# Initialize the folium map centered around the bounding box\n",
    "# Set zoom level dynamically based on bounding box dimensions\n",
    "lat_diff = abs(ne_lat - sw_lat)\n",
    "long_diff = abs(ne_long - sw_long)\n",
    "zoom_level = int(10 - (lat_diff + long_diff) / 2)\n",
    "\n",
    "m = folium.Map(location=[mid_lat, mid_long], zoom_start=zoom_level)\n",
    "\n",
    "# Draw bounding box as a polygon\n",
    "folium.Polygon([(sw_lat, sw_long), (sw_lat, ne_long), (ne_lat, ne_long), (ne_lat, sw_long), (sw_lat, sw_long)], \n",
    "               color='red').add_to(m)\n",
    "\n",
    "# Show map\n",
    "m\n"
   ]
  },
  {
   "cell_type": "code",
   "execution_count": 33,
   "metadata": {},
   "outputs": [
    {
     "name": "stdout",
     "output_type": "stream",
     "text": [
      "Key: name, Value Type: <class 'str'>\n",
      "Key: center, Value Type: <class 'dict'>\n",
      "Key: imageryDate, Value Type: <class 'dict'>\n",
      "Key: postalCode, Value Type: <class 'str'>\n",
      "Key: administrativeArea, Value Type: <class 'str'>\n",
      "Key: statisticalArea, Value Type: <class 'str'>\n",
      "Key: regionCode, Value Type: <class 'str'>\n",
      "Key: solarPotential, Value Type: <class 'dict'>\n",
      "Key: boundingBox, Value Type: <class 'dict'>\n",
      "Key: imageryQuality, Value Type: <class 'str'>\n",
      "Key: imageryProcessedDate, Value Type: <class 'dict'>\n"
     ]
    }
   ],
   "source": [
    "for key, value in data.items():\n",
    "    print(f\"Key: {key}, Value Type: {type(value)}\")"
   ]
  },
  {
   "cell_type": "code",
   "execution_count": 38,
   "metadata": {},
   "outputs": [
    {
     "name": "stdout",
     "output_type": "stream",
     "text": [
      "{'maxArrayPanelsCount': 'int', 'maxArrayAreaMeters2': 'float', 'maxSunshineHoursPerYear': 'int', 'carbonOffsetFactorKgPerMwh': 'float', 'wholeRoofStats': 'dict', 'roofSegmentStats': 'list', 'solarPanelConfigs': 'list', 'financialAnalyses': 'list', 'panelCapacityWatts': 'int', 'panelHeightMeters': 'float', 'panelWidthMeters': 'float', 'panelLifetimeYears': 'int', 'buildingStats': 'dict', 'solarPanels': 'list'}\n"
     ]
    }
   ],
   "source": [
    "solarPotential_data = data['solarPotential']\n",
    "solarPotential_structure = {key: type(value).__name__ for key, value in solarPotential_data.items()}\n",
    "print(solarPotential_structure)"
   ]
  },
  {
   "cell_type": "code",
   "execution_count": 39,
   "metadata": {},
   "outputs": [
    {
     "name": "stdout",
     "output_type": "stream",
     "text": [
      "Exploring 'solarPotential' Dictionary:\n",
      "Key: maxArrayPanelsCount, Type: <class 'int'>\n",
      "Key: maxArrayAreaMeters2, Type: <class 'float'>\n",
      "Key: maxSunshineHoursPerYear, Type: <class 'int'>\n",
      "Key: carbonOffsetFactorKgPerMwh, Type: <class 'float'>\n",
      "Key: wholeRoofStats, Type: <class 'dict'>\n",
      "  Key: areaMeters2, Type: <class 'float'>\n",
      "  Key: sunshineQuantiles, Type: <class 'list'>\n",
      "    List Length: 11\n",
      "    Sample 1: 352\n",
      "    Sample 2: 708\n",
      "    Sample 3: 876\n",
      "  Key: groundAreaMeters2, Type: <class 'float'>\n",
      "Key: roofSegmentStats, Type: <class 'list'>\n",
      "  List Length: 5\n",
      "  Sample 1: {'pitchDegrees': 6.224868, 'azimuthDegrees': 53.74429, 'stats': {'areaMeters2': 46.866325, 'sunshineQuantiles': [352, 567, 834, 867, 888, 910, 935, 956, 976, 992, 1034], 'groundAreaMeters2': 46.59}, 'center': {'latitude': 42.2507849, 'longitude': -70.97850559999999}, 'boundingBox': {'sw': {'latitude': 42.2507291, 'longitude': -70.9785879}, 'ne': {'latitude': 42.2508397, 'longitude': -70.9784355}}, 'planeHeightAtCenterMeters': 8.720731}\n",
      "  Sample 2: {'pitchDegrees': 31.658056, 'azimuthDegrees': 48.519768, 'stats': {'areaMeters2': 44.267147, 'sunshineQuantiles': [375, 509, 987, 1009, 1023, 1034, 1045, 1060, 1078, 1121, 1388], 'groundAreaMeters2': 37.68}, 'center': {'latitude': 42.2507583, 'longitude': -70.9785327}, 'boundingBox': {'sw': {'latitude': 42.2507266, 'longitude': -70.9785713}, 'ne': {'latitude': 42.2508121, 'longitude': -70.97846930000001}}, 'planeHeightAtCenterMeters': 15.900317}\n",
      "  Sample 3: {'pitchDegrees': 30.896158, 'azimuthDegrees': 317.6254, 'stats': {'areaMeters2': 20.452177, 'sunshineQuantiles': [353, 481, 888, 908, 929, 941, 957, 979, 999, 1035, 1381], 'groundAreaMeters2': 17.55}, 'center': {'latitude': 42.2507762, 'longitude': -70.9785914}, 'boundingBox': {'sw': {'latitude': 42.2507527, 'longitude': -70.9786257}, 'ne': {'latitude': 42.250807599999995, 'longitude': -70.97856949999999}}, 'planeHeightAtCenterMeters': 15.851688}\n",
      "Key: solarPanelConfigs, Type: <class 'list'>\n",
      "  List Length: 47\n",
      "  Sample 1: {'panelsCount': 4, 'yearlyEnergyDcKwh': 1392.345, 'roofSegmentSummaries': [{'pitchDegrees': 32.223267, 'azimuthDegrees': 138.11284, 'panelsCount': 2, 'yearlyEnergyDcKwh': 698.6982, 'segmentIndex': 3}, {'pitchDegrees': 30.376875, 'azimuthDegrees': 227.45377, 'panelsCount': 2, 'yearlyEnergyDcKwh': 693.6468, 'segmentIndex': 4}]}\n",
      "  Sample 2: {'panelsCount': 5, 'yearlyEnergyDcKwh': 1733.5128, 'roofSegmentSummaries': [{'pitchDegrees': 32.223267, 'azimuthDegrees': 138.11284, 'panelsCount': 3, 'yearlyEnergyDcKwh': 1039.8661, 'segmentIndex': 3}, {'pitchDegrees': 30.376875, 'azimuthDegrees': 227.45377, 'panelsCount': 2, 'yearlyEnergyDcKwh': 693.6468, 'segmentIndex': 4}]}\n",
      "  Sample 3: {'panelsCount': 6, 'yearlyEnergyDcKwh': 2073.0344, 'roofSegmentSummaries': [{'pitchDegrees': 32.223267, 'azimuthDegrees': 138.11284, 'panelsCount': 4, 'yearlyEnergyDcKwh': 1379.3877, 'segmentIndex': 3}, {'pitchDegrees': 30.376875, 'azimuthDegrees': 227.45377, 'panelsCount': 2, 'yearlyEnergyDcKwh': 693.6468, 'segmentIndex': 4}]}\n",
      "Key: financialAnalyses, Type: <class 'list'>\n",
      "  List Length: 23\n",
      "  Sample 1: {'monthlyBill': {'currencyCode': 'USD', 'units': '20'}, 'panelConfigIndex': -1}\n",
      "  Sample 2: {'monthlyBill': {'currencyCode': 'USD', 'units': '25'}, 'panelConfigIndex': -1}\n",
      "  Sample 3: {'monthlyBill': {'currencyCode': 'USD', 'units': '30'}, 'panelConfigIndex': 0, 'financialDetails': {'initialAcKwhPerYear': 1183.4933, 'remainingLifetimeUtilityBill': {'currencyCode': 'USD', 'units': '1972'}, 'federalIncentive': {'currencyCode': 'USD', 'units': '1459'}, 'stateIncentive': {'currencyCode': 'USD', 'units': '842'}, 'utilityIncentive': {'currencyCode': 'USD'}, 'lifetimeSrecTotal': {'currencyCode': 'USD'}, 'costOfElectricityWithoutSolar': {'currencyCode': 'USD', 'units': '8681'}, 'netMeteringAllowed': True, 'solarPercentage': 96.07508, 'percentageExportedToGrid': 0}, 'leasingSavings': {'leasesAllowed': True, 'leasesSupported': True, 'annualLeasingCost': {'currencyCode': 'USD', 'units': '262', 'nanos': 994232178}, 'savings': {'savingsYear1': {'currencyCode': 'USD', 'units': '21'}, 'savingsYear20': {'currencyCode': 'USD', 'units': '1449'}, 'presentValueOfSavingsYear20': {'currencyCode': 'USD', 'units': '853', 'nanos': 755615234}, 'financiallyViable': True, 'savingsLifetime': {'currencyCode': 'USD', 'units': '1449'}, 'presentValueOfSavingsLifetime': {'currencyCode': 'USD', 'units': '853', 'nanos': 755615234}}}, 'cashPurchaseSavings': {'outOfPocketCost': {'currencyCode': 'USD', 'units': '5615'}, 'upfrontCost': {'currencyCode': 'USD', 'units': '3313'}, 'rebateValue': {'currencyCode': 'USD', 'units': '2302', 'nanos': 149902344}, 'paybackYears': 10.5, 'savings': {'savingsYear1': {'currencyCode': 'USD', 'units': '284'}, 'savingsYear20': {'currencyCode': 'USD', 'units': '6709'}, 'presentValueOfSavingsYear20': {'currencyCode': 'USD', 'units': '1258', 'nanos': 49926758}, 'financiallyViable': True, 'savingsLifetime': {'currencyCode': 'USD', 'units': '6709'}, 'presentValueOfSavingsLifetime': {'currencyCode': 'USD', 'units': '1258', 'nanos': 49926758}}}, 'financedPurchaseSavings': {'annualLoanPayment': {'currencyCode': 'USD', 'units': '225', 'nanos': 916595459}, 'rebateValue': {'currencyCode': 'USD'}, 'loanInterestRate': 0.0325, 'savings': {'savingsYear1': {'currencyCode': 'USD', 'units': '58'}, 'savingsYear20': {'currencyCode': 'USD', 'units': '2191'}, 'presentValueOfSavingsYear20': {'currencyCode': 'USD', 'units': '1377', 'nanos': 809082031}, 'financiallyViable': True, 'savingsLifetime': {'currencyCode': 'USD', 'units': '2191'}, 'presentValueOfSavingsLifetime': {'currencyCode': 'USD', 'units': '1377', 'nanos': 809082031}}}}\n",
      "Key: panelCapacityWatts, Type: <class 'int'>\n",
      "Key: panelHeightMeters, Type: <class 'float'>\n",
      "Key: panelWidthMeters, Type: <class 'float'>\n",
      "Key: panelLifetimeYears, Type: <class 'int'>\n",
      "Key: buildingStats, Type: <class 'dict'>\n",
      "  Key: areaMeters2, Type: <class 'float'>\n",
      "  Key: sunshineQuantiles, Type: <class 'list'>\n",
      "    List Length: 11\n",
      "    Sample 1: 351\n",
      "    Sample 2: 565\n",
      "    Sample 3: 871\n",
      "  Key: groundAreaMeters2, Type: <class 'float'>\n",
      "Key: solarPanels, Type: <class 'list'>\n",
      "  List Length: 50\n",
      "  Sample 1: {'center': {'latitude': 42.250715199999995, 'longitude': -70.9785327}, 'orientation': 'LANDSCAPE', 'yearlyEnergyDcKwh': 351.85327, 'segmentIndex': 3}\n",
      "  Sample 2: {'center': {'latitude': 42.2507449, 'longitude': -70.9785735}, 'orientation': 'PORTRAIT', 'yearlyEnergyDcKwh': 350.91074, 'segmentIndex': 4}\n",
      "  Sample 3: {'center': {'latitude': 42.2507097, 'longitude': -70.9785258}, 'orientation': 'LANDSCAPE', 'yearlyEnergyDcKwh': 346.8449, 'segmentIndex': 3}\n"
     ]
    }
   ],
   "source": [
    "def explore_nested_dict(d, indent=0, max_samples=3):\n",
    "    \"\"\"Recursively explore nested dictionaries.\"\"\"\n",
    "    for key, value in d.items():\n",
    "        print('  ' * indent + f\"Key: {key}, Type: {type(value)}\")\n",
    "        \n",
    "        if isinstance(value, dict):\n",
    "            explore_nested_dict(value, indent + 1)\n",
    "            \n",
    "        elif isinstance(value, list):\n",
    "            print('  ' * (indent + 1) + f\"List Length: {len(value)}\")\n",
    "            \n",
    "            # Show a few sample values\n",
    "            samples = value[:max_samples]\n",
    "            for i, sample in enumerate(samples):\n",
    "                print('  ' * (indent + 1) + f\"Sample {i+1}: {sample}\")\n",
    "                \n",
    "\n",
    "\n",
    "# Start the exploration\n",
    "print(\"Exploring 'solarPotential' Dictionary:\")\n",
    "explore_nested_dict(solarPotential_data)\n"
   ]
  },
  {
   "cell_type": "code",
   "execution_count": 43,
   "metadata": {},
   "outputs": [
    {
     "name": "stdout",
     "output_type": "stream",
     "text": [
      "Panel Config 1: {'panelsCount': 4, 'yearlyEnergyDcKwh': 1392.345, 'roofSegmentSummaries': [{'pitchDegrees': 32.223267, 'azimuthDegrees': 138.11284, 'panelsCount': 2, 'yearlyEnergyDcKwh': 698.6982, 'segmentIndex': 3}, {'pitchDegrees': 30.376875, 'azimuthDegrees': 227.45377, 'panelsCount': 2, 'yearlyEnergyDcKwh': 693.6468, 'segmentIndex': 4}]}\n",
      "Panel Config 2: {'panelsCount': 5, 'yearlyEnergyDcKwh': 1733.5128, 'roofSegmentSummaries': [{'pitchDegrees': 32.223267, 'azimuthDegrees': 138.11284, 'panelsCount': 3, 'yearlyEnergyDcKwh': 1039.8661, 'segmentIndex': 3}, {'pitchDegrees': 30.376875, 'azimuthDegrees': 227.45377, 'panelsCount': 2, 'yearlyEnergyDcKwh': 693.6468, 'segmentIndex': 4}]}\n",
      "Panel Config 3: {'panelsCount': 6, 'yearlyEnergyDcKwh': 2073.0344, 'roofSegmentSummaries': [{'pitchDegrees': 32.223267, 'azimuthDegrees': 138.11284, 'panelsCount': 4, 'yearlyEnergyDcKwh': 1379.3877, 'segmentIndex': 3}, {'pitchDegrees': 30.376875, 'azimuthDegrees': 227.45377, 'panelsCount': 2, 'yearlyEnergyDcKwh': 693.6468, 'segmentIndex': 4}]}\n",
      "Panel Config 4: {'panelsCount': 7, 'yearlyEnergyDcKwh': 2409.819, 'roofSegmentSummaries': [{'pitchDegrees': 32.223267, 'azimuthDegrees': 138.11284, 'panelsCount': 5, 'yearlyEnergyDcKwh': 1716.1724, 'segmentIndex': 3}, {'pitchDegrees': 30.376875, 'azimuthDegrees': 227.45377, 'panelsCount': 2, 'yearlyEnergyDcKwh': 693.6468, 'segmentIndex': 4}]}\n",
      "Panel Config 5: {'panelsCount': 8, 'yearlyEnergyDcKwh': 2678.8894, 'roofSegmentSummaries': [{'pitchDegrees': 31.658056, 'azimuthDegrees': 48.519768, 'panelsCount': 1, 'yearlyEnergyDcKwh': 269.07016, 'segmentIndex': 1}, {'pitchDegrees': 32.223267, 'azimuthDegrees': 138.11284, 'panelsCount': 5, 'yearlyEnergyDcKwh': 1716.1724, 'segmentIndex': 3}, {'pitchDegrees': 30.376875, 'azimuthDegrees': 227.45377, 'panelsCount': 2, 'yearlyEnergyDcKwh': 693.6468, 'segmentIndex': 4}]}\n",
      "Panel Config 6: {'panelsCount': 9, 'yearlyEnergyDcKwh': 2945.3984, 'roofSegmentSummaries': [{'pitchDegrees': 31.658056, 'azimuthDegrees': 48.519768, 'panelsCount': 2, 'yearlyEnergyDcKwh': 535.5792, 'segmentIndex': 1}, {'pitchDegrees': 32.223267, 'azimuthDegrees': 138.11284, 'panelsCount': 5, 'yearlyEnergyDcKwh': 1716.1724, 'segmentIndex': 3}, {'pitchDegrees': 30.376875, 'azimuthDegrees': 227.45377, 'panelsCount': 2, 'yearlyEnergyDcKwh': 693.6468, 'segmentIndex': 4}]}\n",
      "Panel Config 7: {'panelsCount': 10, 'yearlyEnergyDcKwh': 3203.9202, 'roofSegmentSummaries': [{'pitchDegrees': 31.658056, 'azimuthDegrees': 48.519768, 'panelsCount': 3, 'yearlyEnergyDcKwh': 794.101, 'segmentIndex': 1}, {'pitchDegrees': 32.223267, 'azimuthDegrees': 138.11284, 'panelsCount': 5, 'yearlyEnergyDcKwh': 1716.1724, 'segmentIndex': 3}, {'pitchDegrees': 30.376875, 'azimuthDegrees': 227.45377, 'panelsCount': 2, 'yearlyEnergyDcKwh': 693.6468, 'segmentIndex': 4}]}\n",
      "Panel Config 8: {'panelsCount': 11, 'yearlyEnergyDcKwh': 3470.4778, 'roofSegmentSummaries': [{'pitchDegrees': 31.658056, 'azimuthDegrees': 48.519768, 'panelsCount': 4, 'yearlyEnergyDcKwh': 1060.6586, 'segmentIndex': 1}, {'pitchDegrees': 32.223267, 'azimuthDegrees': 138.11284, 'panelsCount': 5, 'yearlyEnergyDcKwh': 1716.1724, 'segmentIndex': 3}, {'pitchDegrees': 30.376875, 'azimuthDegrees': 227.45377, 'panelsCount': 2, 'yearlyEnergyDcKwh': 693.6468, 'segmentIndex': 4}]}\n",
      "Panel Config 9: {'panelsCount': 12, 'yearlyEnergyDcKwh': 3734.7473, 'roofSegmentSummaries': [{'pitchDegrees': 31.658056, 'azimuthDegrees': 48.519768, 'panelsCount': 5, 'yearlyEnergyDcKwh': 1324.9281, 'segmentIndex': 1}, {'pitchDegrees': 32.223267, 'azimuthDegrees': 138.11284, 'panelsCount': 5, 'yearlyEnergyDcKwh': 1716.1724, 'segmentIndex': 3}, {'pitchDegrees': 30.376875, 'azimuthDegrees': 227.45377, 'panelsCount': 2, 'yearlyEnergyDcKwh': 693.6468, 'segmentIndex': 4}]}\n",
      "Panel Config 10: {'panelsCount': 13, 'yearlyEnergyDcKwh': 3993.501, 'roofSegmentSummaries': [{'pitchDegrees': 31.658056, 'azimuthDegrees': 48.519768, 'panelsCount': 6, 'yearlyEnergyDcKwh': 1583.6818, 'segmentIndex': 1}, {'pitchDegrees': 32.223267, 'azimuthDegrees': 138.11284, 'panelsCount': 5, 'yearlyEnergyDcKwh': 1716.1724, 'segmentIndex': 3}, {'pitchDegrees': 30.376875, 'azimuthDegrees': 227.45377, 'panelsCount': 2, 'yearlyEnergyDcKwh': 693.6468, 'segmentIndex': 4}]}\n",
      "Panel Config 11: {'panelsCount': 14, 'yearlyEnergyDcKwh': 4251.265, 'roofSegmentSummaries': [{'pitchDegrees': 31.658056, 'azimuthDegrees': 48.519768, 'panelsCount': 7, 'yearlyEnergyDcKwh': 1841.4459, 'segmentIndex': 1}, {'pitchDegrees': 32.223267, 'azimuthDegrees': 138.11284, 'panelsCount': 5, 'yearlyEnergyDcKwh': 1716.1724, 'segmentIndex': 3}, {'pitchDegrees': 30.376875, 'azimuthDegrees': 227.45377, 'panelsCount': 2, 'yearlyEnergyDcKwh': 693.6468, 'segmentIndex': 4}]}\n",
      "Panel Config 12: {'panelsCount': 15, 'yearlyEnergyDcKwh': 4508.9756, 'roofSegmentSummaries': [{'pitchDegrees': 31.658056, 'azimuthDegrees': 48.519768, 'panelsCount': 8, 'yearlyEnergyDcKwh': 2099.1565, 'segmentIndex': 1}, {'pitchDegrees': 32.223267, 'azimuthDegrees': 138.11284, 'panelsCount': 5, 'yearlyEnergyDcKwh': 1716.1724, 'segmentIndex': 3}, {'pitchDegrees': 30.376875, 'azimuthDegrees': 227.45377, 'panelsCount': 2, 'yearlyEnergyDcKwh': 693.6468, 'segmentIndex': 4}]}\n",
      "Panel Config 13: {'panelsCount': 16, 'yearlyEnergyDcKwh': 4771.3125, 'roofSegmentSummaries': [{'pitchDegrees': 31.658056, 'azimuthDegrees': 48.519768, 'panelsCount': 9, 'yearlyEnergyDcKwh': 2361.4934, 'segmentIndex': 1}, {'pitchDegrees': 32.223267, 'azimuthDegrees': 138.11284, 'panelsCount': 5, 'yearlyEnergyDcKwh': 1716.1724, 'segmentIndex': 3}, {'pitchDegrees': 30.376875, 'azimuthDegrees': 227.45377, 'panelsCount': 2, 'yearlyEnergyDcKwh': 693.6468, 'segmentIndex': 4}]}\n",
      "Panel Config 14: {'panelsCount': 17, 'yearlyEnergyDcKwh': 5028.57, 'roofSegmentSummaries': [{'pitchDegrees': 31.658056, 'azimuthDegrees': 48.519768, 'panelsCount': 10, 'yearlyEnergyDcKwh': 2618.7507, 'segmentIndex': 1}, {'pitchDegrees': 32.223267, 'azimuthDegrees': 138.11284, 'panelsCount': 5, 'yearlyEnergyDcKwh': 1716.1724, 'segmentIndex': 3}, {'pitchDegrees': 30.376875, 'azimuthDegrees': 227.45377, 'panelsCount': 2, 'yearlyEnergyDcKwh': 693.6468, 'segmentIndex': 4}]}\n",
      "Panel Config 15: {'panelsCount': 18, 'yearlyEnergyDcKwh': 5285.3164, 'roofSegmentSummaries': [{'pitchDegrees': 31.658056, 'azimuthDegrees': 48.519768, 'panelsCount': 11, 'yearlyEnergyDcKwh': 2875.4973, 'segmentIndex': 1}, {'pitchDegrees': 32.223267, 'azimuthDegrees': 138.11284, 'panelsCount': 5, 'yearlyEnergyDcKwh': 1716.1724, 'segmentIndex': 3}, {'pitchDegrees': 30.376875, 'azimuthDegrees': 227.45377, 'panelsCount': 2, 'yearlyEnergyDcKwh': 693.6468, 'segmentIndex': 4}]}\n",
      "Panel Config 16: {'panelsCount': 19, 'yearlyEnergyDcKwh': 5541.7524, 'roofSegmentSummaries': [{'pitchDegrees': 31.658056, 'azimuthDegrees': 48.519768, 'panelsCount': 12, 'yearlyEnergyDcKwh': 3131.9336, 'segmentIndex': 1}, {'pitchDegrees': 32.223267, 'azimuthDegrees': 138.11284, 'panelsCount': 5, 'yearlyEnergyDcKwh': 1716.1724, 'segmentIndex': 3}, {'pitchDegrees': 30.376875, 'azimuthDegrees': 227.45377, 'panelsCount': 2, 'yearlyEnergyDcKwh': 693.6468, 'segmentIndex': 4}]}\n",
      "Panel Config 17: {'panelsCount': 20, 'yearlyEnergyDcKwh': 5797.909, 'roofSegmentSummaries': [{'pitchDegrees': 31.658056, 'azimuthDegrees': 48.519768, 'panelsCount': 12, 'yearlyEnergyDcKwh': 3131.9336, 'segmentIndex': 1}, {'pitchDegrees': 30.896158, 'azimuthDegrees': 317.6254, 'panelsCount': 1, 'yearlyEnergyDcKwh': 256.1565, 'segmentIndex': 2}, {'pitchDegrees': 32.223267, 'azimuthDegrees': 138.11284, 'panelsCount': 5, 'yearlyEnergyDcKwh': 1716.1724, 'segmentIndex': 3}, {'pitchDegrees': 30.376875, 'azimuthDegrees': 227.45377, 'panelsCount': 2, 'yearlyEnergyDcKwh': 693.6468, 'segmentIndex': 4}]}\n",
      "Panel Config 18: {'panelsCount': 21, 'yearlyEnergyDcKwh': 6051.002, 'roofSegmentSummaries': [{'pitchDegrees': 31.658056, 'azimuthDegrees': 48.519768, 'panelsCount': 13, 'yearlyEnergyDcKwh': 3385.0264, 'segmentIndex': 1}, {'pitchDegrees': 30.896158, 'azimuthDegrees': 317.6254, 'panelsCount': 1, 'yearlyEnergyDcKwh': 256.1565, 'segmentIndex': 2}, {'pitchDegrees': 32.223267, 'azimuthDegrees': 138.11284, 'panelsCount': 5, 'yearlyEnergyDcKwh': 1716.1724, 'segmentIndex': 3}, {'pitchDegrees': 30.376875, 'azimuthDegrees': 227.45377, 'panelsCount': 2, 'yearlyEnergyDcKwh': 693.6468, 'segmentIndex': 4}]}\n",
      "Panel Config 19: {'panelsCount': 22, 'yearlyEnergyDcKwh': 6305.1865, 'roofSegmentSummaries': [{'pitchDegrees': 31.658056, 'azimuthDegrees': 48.519768, 'panelsCount': 14, 'yearlyEnergyDcKwh': 3639.2112, 'segmentIndex': 1}, {'pitchDegrees': 30.896158, 'azimuthDegrees': 317.6254, 'panelsCount': 1, 'yearlyEnergyDcKwh': 256.1565, 'segmentIndex': 2}, {'pitchDegrees': 32.223267, 'azimuthDegrees': 138.11284, 'panelsCount': 5, 'yearlyEnergyDcKwh': 1716.1724, 'segmentIndex': 3}, {'pitchDegrees': 30.376875, 'azimuthDegrees': 227.45377, 'panelsCount': 2, 'yearlyEnergyDcKwh': 693.6468, 'segmentIndex': 4}]}\n",
      "Panel Config 20: {'panelsCount': 23, 'yearlyEnergyDcKwh': 6554.6157, 'roofSegmentSummaries': [{'pitchDegrees': 6.224868, 'azimuthDegrees': 53.74429, 'panelsCount': 1, 'yearlyEnergyDcKwh': 249.42902, 'segmentIndex': 0}, {'pitchDegrees': 31.658056, 'azimuthDegrees': 48.519768, 'panelsCount': 14, 'yearlyEnergyDcKwh': 3639.2112, 'segmentIndex': 1}, {'pitchDegrees': 30.896158, 'azimuthDegrees': 317.6254, 'panelsCount': 1, 'yearlyEnergyDcKwh': 256.1565, 'segmentIndex': 2}, {'pitchDegrees': 32.223267, 'azimuthDegrees': 138.11284, 'panelsCount': 5, 'yearlyEnergyDcKwh': 1716.1724, 'segmentIndex': 3}, {'pitchDegrees': 30.376875, 'azimuthDegrees': 227.45377, 'panelsCount': 2, 'yearlyEnergyDcKwh': 693.6468, 'segmentIndex': 4}]}\n",
      "Panel Config 21: {'panelsCount': 24, 'yearlyEnergyDcKwh': 6800.706, 'roofSegmentSummaries': [{'pitchDegrees': 6.224868, 'azimuthDegrees': 53.74429, 'panelsCount': 1, 'yearlyEnergyDcKwh': 249.42902, 'segmentIndex': 0}, {'pitchDegrees': 31.658056, 'azimuthDegrees': 48.519768, 'panelsCount': 15, 'yearlyEnergyDcKwh': 3885.3015, 'segmentIndex': 1}, {'pitchDegrees': 30.896158, 'azimuthDegrees': 317.6254, 'panelsCount': 1, 'yearlyEnergyDcKwh': 256.1565, 'segmentIndex': 2}, {'pitchDegrees': 32.223267, 'azimuthDegrees': 138.11284, 'panelsCount': 5, 'yearlyEnergyDcKwh': 1716.1724, 'segmentIndex': 3}, {'pitchDegrees': 30.376875, 'azimuthDegrees': 227.45377, 'panelsCount': 2, 'yearlyEnergyDcKwh': 693.6468, 'segmentIndex': 4}]}\n",
      "Panel Config 22: {'panelsCount': 25, 'yearlyEnergyDcKwh': 7042.9595, 'roofSegmentSummaries': [{'pitchDegrees': 6.224868, 'azimuthDegrees': 53.74429, 'panelsCount': 1, 'yearlyEnergyDcKwh': 249.42902, 'segmentIndex': 0}, {'pitchDegrees': 31.658056, 'azimuthDegrees': 48.519768, 'panelsCount': 16, 'yearlyEnergyDcKwh': 4127.555, 'segmentIndex': 1}, {'pitchDegrees': 30.896158, 'azimuthDegrees': 317.6254, 'panelsCount': 1, 'yearlyEnergyDcKwh': 256.1565, 'segmentIndex': 2}, {'pitchDegrees': 32.223267, 'azimuthDegrees': 138.11284, 'panelsCount': 5, 'yearlyEnergyDcKwh': 1716.1724, 'segmentIndex': 3}, {'pitchDegrees': 30.376875, 'azimuthDegrees': 227.45377, 'panelsCount': 2, 'yearlyEnergyDcKwh': 693.6468, 'segmentIndex': 4}]}\n",
      "Panel Config 23: {'panelsCount': 26, 'yearlyEnergyDcKwh': 7284.4336, 'roofSegmentSummaries': [{'pitchDegrees': 6.224868, 'azimuthDegrees': 53.74429, 'panelsCount': 2, 'yearlyEnergyDcKwh': 490.9031, 'segmentIndex': 0}, {'pitchDegrees': 31.658056, 'azimuthDegrees': 48.519768, 'panelsCount': 16, 'yearlyEnergyDcKwh': 4127.555, 'segmentIndex': 1}, {'pitchDegrees': 30.896158, 'azimuthDegrees': 317.6254, 'panelsCount': 1, 'yearlyEnergyDcKwh': 256.1565, 'segmentIndex': 2}, {'pitchDegrees': 32.223267, 'azimuthDegrees': 138.11284, 'panelsCount': 5, 'yearlyEnergyDcKwh': 1716.1724, 'segmentIndex': 3}, {'pitchDegrees': 30.376875, 'azimuthDegrees': 227.45377, 'panelsCount': 2, 'yearlyEnergyDcKwh': 693.6468, 'segmentIndex': 4}]}\n",
      "Panel Config 24: {'panelsCount': 27, 'yearlyEnergyDcKwh': 7522.825, 'roofSegmentSummaries': [{'pitchDegrees': 6.224868, 'azimuthDegrees': 53.74429, 'panelsCount': 3, 'yearlyEnergyDcKwh': 729.29443, 'segmentIndex': 0}, {'pitchDegrees': 31.658056, 'azimuthDegrees': 48.519768, 'panelsCount': 16, 'yearlyEnergyDcKwh': 4127.555, 'segmentIndex': 1}, {'pitchDegrees': 30.896158, 'azimuthDegrees': 317.6254, 'panelsCount': 1, 'yearlyEnergyDcKwh': 256.1565, 'segmentIndex': 2}, {'pitchDegrees': 32.223267, 'azimuthDegrees': 138.11284, 'panelsCount': 5, 'yearlyEnergyDcKwh': 1716.1724, 'segmentIndex': 3}, {'pitchDegrees': 30.376875, 'azimuthDegrees': 227.45377, 'panelsCount': 2, 'yearlyEnergyDcKwh': 693.6468, 'segmentIndex': 4}]}\n",
      "Panel Config 25: {'panelsCount': 28, 'yearlyEnergyDcKwh': 7757.65, 'roofSegmentSummaries': [{'pitchDegrees': 6.224868, 'azimuthDegrees': 53.74429, 'panelsCount': 4, 'yearlyEnergyDcKwh': 964.11914, 'segmentIndex': 0}, {'pitchDegrees': 31.658056, 'azimuthDegrees': 48.519768, 'panelsCount': 16, 'yearlyEnergyDcKwh': 4127.555, 'segmentIndex': 1}, {'pitchDegrees': 30.896158, 'azimuthDegrees': 317.6254, 'panelsCount': 1, 'yearlyEnergyDcKwh': 256.1565, 'segmentIndex': 2}, {'pitchDegrees': 32.223267, 'azimuthDegrees': 138.11284, 'panelsCount': 5, 'yearlyEnergyDcKwh': 1716.1724, 'segmentIndex': 3}, {'pitchDegrees': 30.376875, 'azimuthDegrees': 227.45377, 'panelsCount': 2, 'yearlyEnergyDcKwh': 693.6468, 'segmentIndex': 4}]}\n",
      "Panel Config 26: {'panelsCount': 29, 'yearlyEnergyDcKwh': 7992.168, 'roofSegmentSummaries': [{'pitchDegrees': 6.224868, 'azimuthDegrees': 53.74429, 'panelsCount': 5, 'yearlyEnergyDcKwh': 1198.6376, 'segmentIndex': 0}, {'pitchDegrees': 31.658056, 'azimuthDegrees': 48.519768, 'panelsCount': 16, 'yearlyEnergyDcKwh': 4127.555, 'segmentIndex': 1}, {'pitchDegrees': 30.896158, 'azimuthDegrees': 317.6254, 'panelsCount': 1, 'yearlyEnergyDcKwh': 256.1565, 'segmentIndex': 2}, {'pitchDegrees': 32.223267, 'azimuthDegrees': 138.11284, 'panelsCount': 5, 'yearlyEnergyDcKwh': 1716.1724, 'segmentIndex': 3}, {'pitchDegrees': 30.376875, 'azimuthDegrees': 227.45377, 'panelsCount': 2, 'yearlyEnergyDcKwh': 693.6468, 'segmentIndex': 4}]}\n",
      "Panel Config 27: {'panelsCount': 30, 'yearlyEnergyDcKwh': 8226.059, 'roofSegmentSummaries': [{'pitchDegrees': 6.224868, 'azimuthDegrees': 53.74429, 'panelsCount': 5, 'yearlyEnergyDcKwh': 1198.6376, 'segmentIndex': 0}, {'pitchDegrees': 31.658056, 'azimuthDegrees': 48.519768, 'panelsCount': 16, 'yearlyEnergyDcKwh': 4127.555, 'segmentIndex': 1}, {'pitchDegrees': 30.896158, 'azimuthDegrees': 317.6254, 'panelsCount': 2, 'yearlyEnergyDcKwh': 490.04657, 'segmentIndex': 2}, {'pitchDegrees': 32.223267, 'azimuthDegrees': 138.11284, 'panelsCount': 5, 'yearlyEnergyDcKwh': 1716.1724, 'segmentIndex': 3}, {'pitchDegrees': 30.376875, 'azimuthDegrees': 227.45377, 'panelsCount': 2, 'yearlyEnergyDcKwh': 693.6468, 'segmentIndex': 4}]}\n",
      "Panel Config 28: {'panelsCount': 31, 'yearlyEnergyDcKwh': 8462.813, 'roofSegmentSummaries': [{'pitchDegrees': 6.224868, 'azimuthDegrees': 53.74429, 'panelsCount': 5, 'yearlyEnergyDcKwh': 1198.6376, 'segmentIndex': 0}, {'pitchDegrees': 31.658056, 'azimuthDegrees': 48.519768, 'panelsCount': 16, 'yearlyEnergyDcKwh': 4127.555, 'segmentIndex': 1}, {'pitchDegrees': 30.896158, 'azimuthDegrees': 317.6254, 'panelsCount': 3, 'yearlyEnergyDcKwh': 726.802, 'segmentIndex': 2}, {'pitchDegrees': 32.223267, 'azimuthDegrees': 138.11284, 'panelsCount': 5, 'yearlyEnergyDcKwh': 1716.1724, 'segmentIndex': 3}, {'pitchDegrees': 30.376875, 'azimuthDegrees': 227.45377, 'panelsCount': 2, 'yearlyEnergyDcKwh': 693.6468, 'segmentIndex': 4}]}\n",
      "Panel Config 29: {'panelsCount': 32, 'yearlyEnergyDcKwh': 8691.687, 'roofSegmentSummaries': [{'pitchDegrees': 6.224868, 'azimuthDegrees': 53.74429, 'panelsCount': 6, 'yearlyEnergyDcKwh': 1427.5103, 'segmentIndex': 0}, {'pitchDegrees': 31.658056, 'azimuthDegrees': 48.519768, 'panelsCount': 16, 'yearlyEnergyDcKwh': 4127.555, 'segmentIndex': 1}, {'pitchDegrees': 30.896158, 'azimuthDegrees': 317.6254, 'panelsCount': 3, 'yearlyEnergyDcKwh': 726.802, 'segmentIndex': 2}, {'pitchDegrees': 32.223267, 'azimuthDegrees': 138.11284, 'panelsCount': 5, 'yearlyEnergyDcKwh': 1716.1724, 'segmentIndex': 3}, {'pitchDegrees': 30.376875, 'azimuthDegrees': 227.45377, 'panelsCount': 2, 'yearlyEnergyDcKwh': 693.6468, 'segmentIndex': 4}]}\n",
      "Panel Config 30: {'panelsCount': 33, 'yearlyEnergyDcKwh': 8922.83, 'roofSegmentSummaries': [{'pitchDegrees': 6.224868, 'azimuthDegrees': 53.74429, 'panelsCount': 7, 'yearlyEnergyDcKwh': 1658.6544, 'segmentIndex': 0}, {'pitchDegrees': 31.658056, 'azimuthDegrees': 48.519768, 'panelsCount': 16, 'yearlyEnergyDcKwh': 4127.555, 'segmentIndex': 1}, {'pitchDegrees': 30.896158, 'azimuthDegrees': 317.6254, 'panelsCount': 3, 'yearlyEnergyDcKwh': 726.802, 'segmentIndex': 2}, {'pitchDegrees': 32.223267, 'azimuthDegrees': 138.11284, 'panelsCount': 5, 'yearlyEnergyDcKwh': 1716.1724, 'segmentIndex': 3}, {'pitchDegrees': 30.376875, 'azimuthDegrees': 227.45377, 'panelsCount': 2, 'yearlyEnergyDcKwh': 693.6468, 'segmentIndex': 4}]}\n",
      "Panel Config 31: {'panelsCount': 34, 'yearlyEnergyDcKwh': 9159.6455, 'roofSegmentSummaries': [{'pitchDegrees': 6.224868, 'azimuthDegrees': 53.74429, 'panelsCount': 8, 'yearlyEnergyDcKwh': 1895.4692, 'segmentIndex': 0}, {'pitchDegrees': 31.658056, 'azimuthDegrees': 48.519768, 'panelsCount': 16, 'yearlyEnergyDcKwh': 4127.555, 'segmentIndex': 1}, {'pitchDegrees': 30.896158, 'azimuthDegrees': 317.6254, 'panelsCount': 3, 'yearlyEnergyDcKwh': 726.802, 'segmentIndex': 2}, {'pitchDegrees': 32.223267, 'azimuthDegrees': 138.11284, 'panelsCount': 5, 'yearlyEnergyDcKwh': 1716.1724, 'segmentIndex': 3}, {'pitchDegrees': 30.376875, 'azimuthDegrees': 227.45377, 'panelsCount': 2, 'yearlyEnergyDcKwh': 693.6468, 'segmentIndex': 4}]}\n",
      "Panel Config 32: {'panelsCount': 35, 'yearlyEnergyDcKwh': 9407.292, 'roofSegmentSummaries': [{'pitchDegrees': 6.224868, 'azimuthDegrees': 53.74429, 'panelsCount': 9, 'yearlyEnergyDcKwh': 2143.1155, 'segmentIndex': 0}, {'pitchDegrees': 31.658056, 'azimuthDegrees': 48.519768, 'panelsCount': 16, 'yearlyEnergyDcKwh': 4127.555, 'segmentIndex': 1}, {'pitchDegrees': 30.896158, 'azimuthDegrees': 317.6254, 'panelsCount': 3, 'yearlyEnergyDcKwh': 726.802, 'segmentIndex': 2}, {'pitchDegrees': 32.223267, 'azimuthDegrees': 138.11284, 'panelsCount': 5, 'yearlyEnergyDcKwh': 1716.1724, 'segmentIndex': 3}, {'pitchDegrees': 30.376875, 'azimuthDegrees': 227.45377, 'panelsCount': 2, 'yearlyEnergyDcKwh': 693.6468, 'segmentIndex': 4}]}\n",
      "Panel Config 33: {'panelsCount': 36, 'yearlyEnergyDcKwh': 9635.462, 'roofSegmentSummaries': [{'pitchDegrees': 6.224868, 'azimuthDegrees': 53.74429, 'panelsCount': 9, 'yearlyEnergyDcKwh': 2143.1155, 'segmentIndex': 0}, {'pitchDegrees': 31.658056, 'azimuthDegrees': 48.519768, 'panelsCount': 16, 'yearlyEnergyDcKwh': 4127.555, 'segmentIndex': 1}, {'pitchDegrees': 30.896158, 'azimuthDegrees': 317.6254, 'panelsCount': 4, 'yearlyEnergyDcKwh': 954.9722, 'segmentIndex': 2}, {'pitchDegrees': 32.223267, 'azimuthDegrees': 138.11284, 'panelsCount': 5, 'yearlyEnergyDcKwh': 1716.1724, 'segmentIndex': 3}, {'pitchDegrees': 30.376875, 'azimuthDegrees': 227.45377, 'panelsCount': 2, 'yearlyEnergyDcKwh': 693.6468, 'segmentIndex': 4}]}\n",
      "Panel Config 34: {'panelsCount': 37, 'yearlyEnergyDcKwh': 9863.263, 'roofSegmentSummaries': [{'pitchDegrees': 6.224868, 'azimuthDegrees': 53.74429, 'panelsCount': 10, 'yearlyEnergyDcKwh': 2370.916, 'segmentIndex': 0}, {'pitchDegrees': 31.658056, 'azimuthDegrees': 48.519768, 'panelsCount': 16, 'yearlyEnergyDcKwh': 4127.555, 'segmentIndex': 1}, {'pitchDegrees': 30.896158, 'azimuthDegrees': 317.6254, 'panelsCount': 4, 'yearlyEnergyDcKwh': 954.9722, 'segmentIndex': 2}, {'pitchDegrees': 32.223267, 'azimuthDegrees': 138.11284, 'panelsCount': 5, 'yearlyEnergyDcKwh': 1716.1724, 'segmentIndex': 3}, {'pitchDegrees': 30.376875, 'azimuthDegrees': 227.45377, 'panelsCount': 2, 'yearlyEnergyDcKwh': 693.6468, 'segmentIndex': 4}]}\n",
      "Panel Config 35: {'panelsCount': 38, 'yearlyEnergyDcKwh': 10086.883, 'roofSegmentSummaries': [{'pitchDegrees': 6.224868, 'azimuthDegrees': 53.74429, 'panelsCount': 11, 'yearlyEnergyDcKwh': 2594.5364, 'segmentIndex': 0}, {'pitchDegrees': 31.658056, 'azimuthDegrees': 48.519768, 'panelsCount': 16, 'yearlyEnergyDcKwh': 4127.555, 'segmentIndex': 1}, {'pitchDegrees': 30.896158, 'azimuthDegrees': 317.6254, 'panelsCount': 4, 'yearlyEnergyDcKwh': 954.9722, 'segmentIndex': 2}, {'pitchDegrees': 32.223267, 'azimuthDegrees': 138.11284, 'panelsCount': 5, 'yearlyEnergyDcKwh': 1716.1724, 'segmentIndex': 3}, {'pitchDegrees': 30.376875, 'azimuthDegrees': 227.45377, 'panelsCount': 2, 'yearlyEnergyDcKwh': 693.6468, 'segmentIndex': 4}]}\n",
      "Panel Config 36: {'panelsCount': 39, 'yearlyEnergyDcKwh': 10309.782, 'roofSegmentSummaries': [{'pitchDegrees': 6.224868, 'azimuthDegrees': 53.74429, 'panelsCount': 11, 'yearlyEnergyDcKwh': 2594.5364, 'segmentIndex': 0}, {'pitchDegrees': 31.658056, 'azimuthDegrees': 48.519768, 'panelsCount': 16, 'yearlyEnergyDcKwh': 4127.555, 'segmentIndex': 1}, {'pitchDegrees': 30.896158, 'azimuthDegrees': 317.6254, 'panelsCount': 5, 'yearlyEnergyDcKwh': 1177.8712, 'segmentIndex': 2}, {'pitchDegrees': 32.223267, 'azimuthDegrees': 138.11284, 'panelsCount': 5, 'yearlyEnergyDcKwh': 1716.1724, 'segmentIndex': 3}, {'pitchDegrees': 30.376875, 'azimuthDegrees': 227.45377, 'panelsCount': 2, 'yearlyEnergyDcKwh': 693.6468, 'segmentIndex': 4}]}\n",
      "Panel Config 37: {'panelsCount': 40, 'yearlyEnergyDcKwh': 10543.449, 'roofSegmentSummaries': [{'pitchDegrees': 6.224868, 'azimuthDegrees': 53.74429, 'panelsCount': 11, 'yearlyEnergyDcKwh': 2594.5364, 'segmentIndex': 0}, {'pitchDegrees': 31.658056, 'azimuthDegrees': 48.519768, 'panelsCount': 16, 'yearlyEnergyDcKwh': 4127.555, 'segmentIndex': 1}, {'pitchDegrees': 30.896158, 'azimuthDegrees': 317.6254, 'panelsCount': 6, 'yearlyEnergyDcKwh': 1411.5385, 'segmentIndex': 2}, {'pitchDegrees': 32.223267, 'azimuthDegrees': 138.11284, 'panelsCount': 5, 'yearlyEnergyDcKwh': 1716.1724, 'segmentIndex': 3}, {'pitchDegrees': 30.376875, 'azimuthDegrees': 227.45377, 'panelsCount': 2, 'yearlyEnergyDcKwh': 693.6468, 'segmentIndex': 4}]}\n",
      "Panel Config 38: {'panelsCount': 41, 'yearlyEnergyDcKwh': 10763.3545, 'roofSegmentSummaries': [{'pitchDegrees': 6.224868, 'azimuthDegrees': 53.74429, 'panelsCount': 12, 'yearlyEnergyDcKwh': 2814.4414, 'segmentIndex': 0}, {'pitchDegrees': 31.658056, 'azimuthDegrees': 48.519768, 'panelsCount': 16, 'yearlyEnergyDcKwh': 4127.555, 'segmentIndex': 1}, {'pitchDegrees': 30.896158, 'azimuthDegrees': 317.6254, 'panelsCount': 6, 'yearlyEnergyDcKwh': 1411.5385, 'segmentIndex': 2}, {'pitchDegrees': 32.223267, 'azimuthDegrees': 138.11284, 'panelsCount': 5, 'yearlyEnergyDcKwh': 1716.1724, 'segmentIndex': 3}, {'pitchDegrees': 30.376875, 'azimuthDegrees': 227.45377, 'panelsCount': 2, 'yearlyEnergyDcKwh': 693.6468, 'segmentIndex': 4}]}\n",
      "Panel Config 39: {'panelsCount': 42, 'yearlyEnergyDcKwh': 10981.562, 'roofSegmentSummaries': [{'pitchDegrees': 6.224868, 'azimuthDegrees': 53.74429, 'panelsCount': 13, 'yearlyEnergyDcKwh': 3032.6484, 'segmentIndex': 0}, {'pitchDegrees': 31.658056, 'azimuthDegrees': 48.519768, 'panelsCount': 16, 'yearlyEnergyDcKwh': 4127.555, 'segmentIndex': 1}, {'pitchDegrees': 30.896158, 'azimuthDegrees': 317.6254, 'panelsCount': 6, 'yearlyEnergyDcKwh': 1411.5385, 'segmentIndex': 2}, {'pitchDegrees': 32.223267, 'azimuthDegrees': 138.11284, 'panelsCount': 5, 'yearlyEnergyDcKwh': 1716.1724, 'segmentIndex': 3}, {'pitchDegrees': 30.376875, 'azimuthDegrees': 227.45377, 'panelsCount': 2, 'yearlyEnergyDcKwh': 693.6468, 'segmentIndex': 4}]}\n",
      "Panel Config 40: {'panelsCount': 43, 'yearlyEnergyDcKwh': 11199.592, 'roofSegmentSummaries': [{'pitchDegrees': 6.224868, 'azimuthDegrees': 53.74429, 'panelsCount': 14, 'yearlyEnergyDcKwh': 3250.6792, 'segmentIndex': 0}, {'pitchDegrees': 31.658056, 'azimuthDegrees': 48.519768, 'panelsCount': 16, 'yearlyEnergyDcKwh': 4127.555, 'segmentIndex': 1}, {'pitchDegrees': 30.896158, 'azimuthDegrees': 317.6254, 'panelsCount': 6, 'yearlyEnergyDcKwh': 1411.5385, 'segmentIndex': 2}, {'pitchDegrees': 32.223267, 'azimuthDegrees': 138.11284, 'panelsCount': 5, 'yearlyEnergyDcKwh': 1716.1724, 'segmentIndex': 3}, {'pitchDegrees': 30.376875, 'azimuthDegrees': 227.45377, 'panelsCount': 2, 'yearlyEnergyDcKwh': 693.6468, 'segmentIndex': 4}]}\n",
      "Panel Config 41: {'panelsCount': 44, 'yearlyEnergyDcKwh': 11415.363, 'roofSegmentSummaries': [{'pitchDegrees': 6.224868, 'azimuthDegrees': 53.74429, 'panelsCount': 15, 'yearlyEnergyDcKwh': 3466.4507, 'segmentIndex': 0}, {'pitchDegrees': 31.658056, 'azimuthDegrees': 48.519768, 'panelsCount': 16, 'yearlyEnergyDcKwh': 4127.555, 'segmentIndex': 1}, {'pitchDegrees': 30.896158, 'azimuthDegrees': 317.6254, 'panelsCount': 6, 'yearlyEnergyDcKwh': 1411.5385, 'segmentIndex': 2}, {'pitchDegrees': 32.223267, 'azimuthDegrees': 138.11284, 'panelsCount': 5, 'yearlyEnergyDcKwh': 1716.1724, 'segmentIndex': 3}, {'pitchDegrees': 30.376875, 'azimuthDegrees': 227.45377, 'panelsCount': 2, 'yearlyEnergyDcKwh': 693.6468, 'segmentIndex': 4}]}\n",
      "Panel Config 42: {'panelsCount': 45, 'yearlyEnergyDcKwh': 11628.532, 'roofSegmentSummaries': [{'pitchDegrees': 6.224868, 'azimuthDegrees': 53.74429, 'panelsCount': 16, 'yearlyEnergyDcKwh': 3679.6194, 'segmentIndex': 0}, {'pitchDegrees': 31.658056, 'azimuthDegrees': 48.519768, 'panelsCount': 16, 'yearlyEnergyDcKwh': 4127.555, 'segmentIndex': 1}, {'pitchDegrees': 30.896158, 'azimuthDegrees': 317.6254, 'panelsCount': 6, 'yearlyEnergyDcKwh': 1411.5385, 'segmentIndex': 2}, {'pitchDegrees': 32.223267, 'azimuthDegrees': 138.11284, 'panelsCount': 5, 'yearlyEnergyDcKwh': 1716.1724, 'segmentIndex': 3}, {'pitchDegrees': 30.376875, 'azimuthDegrees': 227.45377, 'panelsCount': 2, 'yearlyEnergyDcKwh': 693.6468, 'segmentIndex': 4}]}\n",
      "Panel Config 43: {'panelsCount': 46, 'yearlyEnergyDcKwh': 11838.471, 'roofSegmentSummaries': [{'pitchDegrees': 6.224868, 'azimuthDegrees': 53.74429, 'panelsCount': 17, 'yearlyEnergyDcKwh': 3889.5576, 'segmentIndex': 0}, {'pitchDegrees': 31.658056, 'azimuthDegrees': 48.519768, 'panelsCount': 16, 'yearlyEnergyDcKwh': 4127.555, 'segmentIndex': 1}, {'pitchDegrees': 30.896158, 'azimuthDegrees': 317.6254, 'panelsCount': 6, 'yearlyEnergyDcKwh': 1411.5385, 'segmentIndex': 2}, {'pitchDegrees': 32.223267, 'azimuthDegrees': 138.11284, 'panelsCount': 5, 'yearlyEnergyDcKwh': 1716.1724, 'segmentIndex': 3}, {'pitchDegrees': 30.376875, 'azimuthDegrees': 227.45377, 'panelsCount': 2, 'yearlyEnergyDcKwh': 693.6468, 'segmentIndex': 4}]}\n",
      "Panel Config 44: {'panelsCount': 47, 'yearlyEnergyDcKwh': 12036.96, 'roofSegmentSummaries': [{'pitchDegrees': 6.224868, 'azimuthDegrees': 53.74429, 'panelsCount': 18, 'yearlyEnergyDcKwh': 4088.0469, 'segmentIndex': 0}, {'pitchDegrees': 31.658056, 'azimuthDegrees': 48.519768, 'panelsCount': 16, 'yearlyEnergyDcKwh': 4127.555, 'segmentIndex': 1}, {'pitchDegrees': 30.896158, 'azimuthDegrees': 317.6254, 'panelsCount': 6, 'yearlyEnergyDcKwh': 1411.5385, 'segmentIndex': 2}, {'pitchDegrees': 32.223267, 'azimuthDegrees': 138.11284, 'panelsCount': 5, 'yearlyEnergyDcKwh': 1716.1724, 'segmentIndex': 3}, {'pitchDegrees': 30.376875, 'azimuthDegrees': 227.45377, 'panelsCount': 2, 'yearlyEnergyDcKwh': 693.6468, 'segmentIndex': 4}]}\n",
      "Panel Config 45: {'panelsCount': 48, 'yearlyEnergyDcKwh': 12232.5205, 'roofSegmentSummaries': [{'pitchDegrees': 6.224868, 'azimuthDegrees': 53.74429, 'panelsCount': 18, 'yearlyEnergyDcKwh': 4088.0469, 'segmentIndex': 0}, {'pitchDegrees': 31.658056, 'azimuthDegrees': 48.519768, 'panelsCount': 16, 'yearlyEnergyDcKwh': 4127.555, 'segmentIndex': 1}, {'pitchDegrees': 30.896158, 'azimuthDegrees': 317.6254, 'panelsCount': 7, 'yearlyEnergyDcKwh': 1607.0996, 'segmentIndex': 2}, {'pitchDegrees': 32.223267, 'azimuthDegrees': 138.11284, 'panelsCount': 5, 'yearlyEnergyDcKwh': 1716.1724, 'segmentIndex': 3}, {'pitchDegrees': 30.376875, 'azimuthDegrees': 227.45377, 'panelsCount': 2, 'yearlyEnergyDcKwh': 693.6468, 'segmentIndex': 4}]}\n",
      "Panel Config 46: {'panelsCount': 49, 'yearlyEnergyDcKwh': 12431.012, 'roofSegmentSummaries': [{'pitchDegrees': 6.224868, 'azimuthDegrees': 53.74429, 'panelsCount': 18, 'yearlyEnergyDcKwh': 4088.0469, 'segmentIndex': 0}, {'pitchDegrees': 31.658056, 'azimuthDegrees': 48.519768, 'panelsCount': 16, 'yearlyEnergyDcKwh': 4127.555, 'segmentIndex': 1}, {'pitchDegrees': 30.896158, 'azimuthDegrees': 317.6254, 'panelsCount': 8, 'yearlyEnergyDcKwh': 1805.5907, 'segmentIndex': 2}, {'pitchDegrees': 32.223267, 'azimuthDegrees': 138.11284, 'panelsCount': 5, 'yearlyEnergyDcKwh': 1716.1724, 'segmentIndex': 3}, {'pitchDegrees': 30.376875, 'azimuthDegrees': 227.45377, 'panelsCount': 2, 'yearlyEnergyDcKwh': 693.6468, 'segmentIndex': 4}]}\n",
      "Panel Config 47: {'panelsCount': 50, 'yearlyEnergyDcKwh': 12617.817, 'roofSegmentSummaries': [{'pitchDegrees': 6.224868, 'azimuthDegrees': 53.74429, 'panelsCount': 19, 'yearlyEnergyDcKwh': 4274.8525, 'segmentIndex': 0}, {'pitchDegrees': 31.658056, 'azimuthDegrees': 48.519768, 'panelsCount': 16, 'yearlyEnergyDcKwh': 4127.555, 'segmentIndex': 1}, {'pitchDegrees': 30.896158, 'azimuthDegrees': 317.6254, 'panelsCount': 8, 'yearlyEnergyDcKwh': 1805.5907, 'segmentIndex': 2}, {'pitchDegrees': 32.223267, 'azimuthDegrees': 138.11284, 'panelsCount': 5, 'yearlyEnergyDcKwh': 1716.1724, 'segmentIndex': 3}, {'pitchDegrees': 30.376875, 'azimuthDegrees': 227.45377, 'panelsCount': 2, 'yearlyEnergyDcKwh': 693.6468, 'segmentIndex': 4}]}\n"
     ]
    }
   ],
   "source": [
    "\n",
    "\n",
    "# Access the 'solarPanelConfigs' list\n",
    "solar_panel_configs = solarPotential_data.get('solarPanelConfigs', [])\n",
    "\n",
    "# Loop through each configuration and print it\n",
    "for i, config in enumerate(solar_panel_configs):\n",
    "    print(f\"Panel Config {i+1}: {config}\")\n"
   ]
  },
  {
   "cell_type": "code",
   "execution_count": 45,
   "metadata": {},
   "outputs": [
    {
     "data": {
      "text/plain": [
       "[{'monthlyBill': 'dict', 'panelConfigIndex': 'int'},\n",
       " {'monthlyBill': 'dict', 'panelConfigIndex': 'int'},\n",
       " {'monthlyBill': 'dict',\n",
       "  'panelConfigIndex': 'int',\n",
       "  'financialDetails': 'dict',\n",
       "  'leasingSavings': 'dict',\n",
       "  'cashPurchaseSavings': 'dict',\n",
       "  'financedPurchaseSavings': 'dict'},\n",
       " {'monthlyBill': 'dict',\n",
       "  'panelConfigIndex': 'int',\n",
       "  'financialDetails': 'dict',\n",
       "  'leasingSavings': 'dict',\n",
       "  'cashPurchaseSavings': 'dict',\n",
       "  'financedPurchaseSavings': 'dict'},\n",
       " {'monthlyBill': 'dict',\n",
       "  'panelConfigIndex': 'int',\n",
       "  'financialDetails': 'dict',\n",
       "  'leasingSavings': 'dict',\n",
       "  'cashPurchaseSavings': 'dict',\n",
       "  'financedPurchaseSavings': 'dict'}]"
      ]
     },
     "execution_count": 45,
     "metadata": {},
     "output_type": "execute_result"
    }
   ],
   "source": [
    "# Code to explore all entries under 'financialAnalyses'\n",
    "def explore_financialAnalyses(financialAnalyses_list):\n",
    "    # Initialize an empty list to store the structures of each entry\n",
    "    all_structures = []\n",
    "    \n",
    "    # Loop through each entry in 'financialAnalyses'\n",
    "    for i, entry in enumerate(financialAnalyses_list):\n",
    "        # Extract the structure of the current entry\n",
    "        current_structure = {key: type(value).__name__ for key, value in entry.items()}\n",
    "        \n",
    "        # Append the current structure to the list of all structures\n",
    "        all_structures.append(current_structure)\n",
    "    \n",
    "    return all_structures\n",
    "\n",
    "# Extract the 'financialAnalyses' list from the 'solarPotential' data\n",
    "financialAnalyses_list = solarPotential_data['financialAnalyses']\n",
    "\n",
    "# Get the structures of all entries under 'financialAnalyses'\n",
    "all_financialAnalyses_structures = explore_financialAnalyses(financialAnalyses_list)\n",
    "all_financialAnalyses_structures[:5]  # Displaying the first 5 entries for illustration\n"
   ]
  },
  {
   "cell_type": "code",
   "execution_count": 48,
   "metadata": {},
   "outputs": [
    {
     "data": {
      "image/png": "[encoded data removed]",
      "text/plain": [
       "<Figure size 1000x600 with 1 Axes>"
      ]
     },
     "metadata": {},
     "output_type": "display_data"
    }
   ],
   "source": [
    "import matplotlib.pyplot as plt\n",
    "import pandas as pd\n",
    "\n",
    "financialAnalyses_data = solarPotential_data['financialAnalyses']\n",
    "# Convert the list of financial analyses to a DataFrame\n",
    "financial_df = pd.DataFrame(financialAnalyses_data)\n",
    "\n",
    "# Importing necessary libraries for plotting\n",
    "import matplotlib.pyplot as plt\n",
    "\n",
    "# Extracting the 'units' from 'monthlyBill' and 'panelConfigIndex' for all entries\n",
    "monthlyBill_units = [float(item['monthlyBill']['units']) for item in financialAnalyses_data]\n",
    "panelConfigIndex_values = [item['panelConfigIndex'] for item in financialAnalyses_data]\n",
    "\n",
    "# Plotting the graph\n",
    "plt.figure(figsize=(10, 6))\n",
    "plt.scatter(panelConfigIndex_values, monthlyBill_units, marker='o', color='b')\n",
    "plt.title('Monthly Bill Units vs Panel Configuration Index')\n",
    "plt.xlabel('Panel Configuration Index')\n",
    "plt.ylabel('Monthly Bill Units (USD)')\n",
    "plt.grid(True)\n",
    "plt.show()"
   ]
  }
 ],
 "metadata": {
  "kernelspec": {
   "display_name": "Python 3 (ipykernel)",
   "language": "python",
   "name": "python3"
  },
  "language_info": {
   "codemirror_mode": {
    "name": "ipython",
    "version": 3
   },
   "file_extension": ".py",
   "mimetype": "text/x-python",
   "name": "python",
   "nbconvert_exporter": "python",
   "pygments_lexer": "ipython3",
   "version": "3.10.8"
  },
  "orig_nbformat": 4
 },
 "nbformat": 4,
 "nbformat_minor": 2
}
